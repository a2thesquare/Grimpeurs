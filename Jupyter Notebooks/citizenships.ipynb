import pandas as pd
from google.colab import files
import matplotlib.pyplot as plt

# Upload CSV
uploaded = files.upload()
filename = list(uploaded.keys())[0]

# Read CSV
df = pd.read_csv(filename, sep=',', quotechar='"')

# Clean 'n' column
df['n'] = df['n'].astype(str).str.replace(' ', '').astype(int)

# Sort and take top 10
top10 = df.sort_values(by='n', ascending=False).head(10)

# Plot horizontal bar chart
plt.figure(figsize=(10, 6))
plt.barh(top10['citizenshipLabel'], top10['n'], color='skyblue')
plt.xlabel("Nombre")
plt.ylabel("Citoyenneté")
plt.title("Top 10 des citoyennetés par nombre")
plt.gca().invert_yaxis()  # To have the biggest bar on top

plt.tight_layout()
plt.show()
